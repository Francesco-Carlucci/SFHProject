{
 "cells": [
  {
   "cell_type": "code",
   "execution_count": 1,
   "metadata": {},
   "outputs": [],
   "source": [
    "import json\n",
    "from datasets.jester import make_dataset, load_annotation_data\n",
    "from sklearn.metrics import accuracy_score, accuracy_score, balanced_accuracy_score\n",
    "import numpy as np"
   ]
  },
  {
   "cell_type": "code",
   "execution_count": 23,
   "metadata": {},
   "outputs": [],
   "source": [
    "#../../../Efficient-3DCNNs/result1/val.json   \n",
    "with open('../../../Efficient-3DCNNs/result1/val.json', 'r') as f:\n",
    "    val_results_dict = json.load(f)"
   ]
  },
  {
   "cell_type": "code",
   "execution_count": 24,
   "metadata": {},
   "outputs": [],
   "source": [
    "val_filtered_results_dict = {}\n",
    "for x in val_results_dict['results']:\n",
    "    val_filtered_results_dict[x] = val_results_dict['results'][x][0]['label']\n",
    "    \"\"\"  #solo due classi\n",
    "    if val_results_dict['results'][x][0]['label']=='Doing_other_things':\n",
    "        val_filtered_results_dict[x] ='No_gesture' #val_results_dict['results'][x][0]['label']\n",
    "    else:\n",
    "        val_filtered_results_dict[x] = 'Zooming_Out_With_Full_Hand'\n",
    "    \"\"\"\n",
    "    "
   ]
  },
  {
   "cell_type": "code",
   "execution_count": 25,
   "metadata": {},
   "outputs": [],
   "source": [
    "annotation_data = load_annotation_data('./annotation_Jester/jester.json')"
   ]
  },
  {
   "cell_type": "code",
   "execution_count": 26,
   "metadata": {},
   "outputs": [],
   "source": [
    "val_filtered_ytrue_dict = {}\n",
    "for x in annotation_data['database']:\n",
    "    idx_data = annotation_data['database'][x]\n",
    "    if idx_data['subset'] == 'validation' and x in val_filtered_results_dict:\n",
    "        val_filtered_ytrue_dict[x] = idx_data['annotations']['label']"
   ]
  },
  {
   "cell_type": "code",
   "execution_count": 27,
   "metadata": {
    "scrolled": true
   },
   "outputs": [
    {
     "name": "stdout",
     "output_type": "stream",
     "text": [
      "val:  90.7891001986943 %\n"
     ]
    }
   ],
   "source": [
    "print('val: ',str(100*accuracy_score(list(val_filtered_ytrue_dict.values()), list(val_filtered_results_dict.values()))),\"%\")"
   ]
  },
  {
   "cell_type": "code",
   "execution_count": 37,
   "metadata": {},
   "outputs": [],
   "source": [
    "#solo per il subset test\n",
    "import csv\n",
    "val_filtered_ytrue_dict = {}\n",
    "with open('./test-answers.csv') as csv_file:\n",
    "    csv_reader = csv.reader(csv_file, delimiter=';')\n",
    "    line_count = 0\n",
    "    for row in csv_reader:\n",
    "        if row[0] in val_filtered_results_dict:\n",
    "            val_filtered_ytrue_dict[row[0]]=row[1].replace(\" \",\"_\")"
   ]
  },
  {
   "cell_type": "code",
   "execution_count": 38,
   "metadata": {
    "collapsed": true
   },
   "outputs": [
    {
     "ename": "KeyError",
     "evalue": "'9223'",
     "output_type": "error",
     "traceback": [
      "\u001b[1;31m---------------------------------------------------------------------------\u001b[0m",
      "\u001b[1;31mKeyError\u001b[0m                                  Traceback (most recent call last)",
      "Input \u001b[1;32mIn [38]\u001b[0m, in \u001b[0;36m<cell line: 2>\u001b[1;34m()\u001b[0m\n\u001b[0;32m      1\u001b[0m count\u001b[38;5;241m=\u001b[39m\u001b[38;5;241m0\u001b[39m\n\u001b[0;32m      2\u001b[0m \u001b[38;5;28;01mfor\u001b[39;00m x \u001b[38;5;129;01min\u001b[39;00m val_filtered_results_dict:\n\u001b[0;32m      3\u001b[0m     \u001b[38;5;66;03m#print(val_filtered_results_dict[x])\u001b[39;00m\n\u001b[1;32m----> 4\u001b[0m     \u001b[38;5;28;01mif\u001b[39;00m \u001b[43mval_filtered_ytrue_dict\u001b[49m\u001b[43m[\u001b[49m\u001b[43mx\u001b[49m\u001b[43m]\u001b[49m\u001b[38;5;241m==\u001b[39mval_filtered_results_dict[x]:\n\u001b[0;32m      5\u001b[0m         count\u001b[38;5;241m+\u001b[39m\u001b[38;5;241m=\u001b[39m\u001b[38;5;241m1\u001b[39m;\n\u001b[0;32m      6\u001b[0m \u001b[38;5;28mprint\u001b[39m(count\u001b[38;5;241m/\u001b[39m\u001b[38;5;28mlen\u001b[39m(val_filtered_results_dict))\n",
      "\u001b[1;31mKeyError\u001b[0m: '9223'"
     ]
    }
   ],
   "source": [
    "count=0\n",
    "for x in val_filtered_results_dict:\n",
    "    #print(val_filtered_results_dict[x])\n",
    "    if val_filtered_ytrue_dict[x]==val_filtered_results_dict[x]:\n",
    "        count+=1;\n",
    "print(count/len(val_filtered_results_dict))"
   ]
  },
  {
   "cell_type": "code",
   "execution_count": 16,
   "metadata": {},
   "outputs": [
    {
     "name": "stdout",
     "output_type": "stream",
     "text": [
      "148092\n"
     ]
    }
   ],
   "source": [
    "print(len(annotation_data['database']))\n",
    "for x in annotation_data['database']:\n",
    "    idx_data = annotation_data['database'][x]\n",
    "    if idx_data['subset'] == 'validation' and x in val_filtered_results_dict:\n",
    "        print(x,idx_data['annotations']['label'])\n",
    "        print(val_filtered_results_dict[x])"
   ]
  },
  {
   "cell_type": "code",
   "execution_count": 18,
   "metadata": {},
   "outputs": [
    {
     "data": {
      "text/plain": [
       "7046"
      ]
     },
     "execution_count": 18,
     "metadata": {},
     "output_type": "execute_result"
    }
   ],
   "source": [
    "len(val_filtered_ytrue_dict)"
   ]
  },
  {
   "cell_type": "code",
   "execution_count": 19,
   "metadata": {},
   "outputs": [
    {
     "data": {
      "text/plain": [
       "7046"
      ]
     },
     "execution_count": 19,
     "metadata": {},
     "output_type": "execute_result"
    }
   ],
   "source": [
    "len(val_filtered_results_dict)"
   ]
  },
  {
   "cell_type": "code",
   "execution_count": 13,
   "metadata": {},
   "outputs": [
    {
     "data": {
      "text/plain": [
       "{'results': {'0': [{'label': '1', 'score': 0.5099102258682251},\n",
       "   {'label': '2', 'score': 0.49008968472480774}],\n",
       "  '1': [{'label': '1', 'score': 0.504483163356781},\n",
       "   {'label': '2', 'score': 0.4955167770385742}],\n",
       "  '2': [{'label': '2', 'score': 0.6246964335441589},\n",
       "   {'label': '1', 'score': 0.37530356645584106}],\n",
       "  '3': [{'label': '1', 'score': 0.5220223665237427},\n",
       "   {'label': '2', 'score': 0.47797757387161255}],\n",
       "  '4': [{'label': '1', 'score': 0.5111146569252014},\n",
       "   {'label': '2', 'score': 0.4888853430747986}],\n",
       "  '5': [{'label': '2', 'score': 0.5647941827774048},\n",
       "   {'label': '1', 'score': 0.43520575761795044}],\n",
       "  '6': [{'label': '1', 'score': 0.5156695246696472},\n",
       "   {'label': '2', 'score': 0.484330415725708}],\n",
       "  '7': [{'label': '2', 'score': 0.5140109062194824},\n",
       "   {'label': '1', 'score': 0.4859890043735504}],\n",
       "  '8': [{'label': '2', 'score': 0.7947680950164795},\n",
       "   {'label': '1', 'score': 0.20523187518119812}],\n",
       "  '9': [{'label': '2', 'score': 0.6026201844215393},\n",
       "   {'label': '1', 'score': 0.3973797857761383}],\n",
       "  '10': [{'label': '2', 'score': 0.542620062828064},\n",
       "   {'label': '1', 'score': 0.45737990736961365}],\n",
       "  '11': [{'label': '2', 'score': 0.6170998811721802},\n",
       "   {'label': '1', 'score': 0.3829001188278198}],\n",
       "  '12': [{'label': '2', 'score': 0.538796067237854},\n",
       "   {'label': '1', 'score': 0.461203932762146}],\n",
       "  '13': [{'label': '2', 'score': 0.6474016308784485},\n",
       "   {'label': '1', 'score': 0.3525983691215515}],\n",
       "  '14': [{'label': '2', 'score': 0.5240218639373779},\n",
       "   {'label': '1', 'score': 0.47597813606262207}],\n",
       "  '15': [{'label': '2', 'score': 0.6050711870193481},\n",
       "   {'label': '1', 'score': 0.39492881298065186}],\n",
       "  '16': [{'label': '2', 'score': 0.7293660640716553},\n",
       "   {'label': '1', 'score': 0.2706339657306671}],\n",
       "  '17': [{'label': '2', 'score': 0.7788733839988708},\n",
       "   {'label': '1', 'score': 0.22112664580345154}],\n",
       "  '18': [{'label': '2', 'score': 0.6025956869125366},\n",
       "   {'label': '1', 'score': 0.3974043130874634}],\n",
       "  '19': [{'label': '2', 'score': 0.5768840312957764},\n",
       "   {'label': '1', 'score': 0.423115998506546}],\n",
       "  '20': [{'label': '1', 'score': 0.5311746597290039},\n",
       "   {'label': '2', 'score': 0.4688253104686737}],\n",
       "  '21': [{'label': '1', 'score': 0.5517581701278687},\n",
       "   {'label': '2', 'score': 0.4482418894767761}],\n",
       "  '22': [{'label': '1', 'score': 0.5694630146026611},\n",
       "   {'label': '2', 'score': 0.43053701519966125}],\n",
       "  '23': [{'label': '1', 'score': 0.5318480134010315},\n",
       "   {'label': '2', 'score': 0.4681520164012909}],\n",
       "  '24': [{'label': '2', 'score': 0.799102246761322},\n",
       "   {'label': '1', 'score': 0.200897678732872}],\n",
       "  '25': [{'label': '2', 'score': 0.7568389177322388},\n",
       "   {'label': '1', 'score': 0.24316108226776123}],\n",
       "  '26': [{'label': '2', 'score': 0.7237771153450012},\n",
       "   {'label': '1', 'score': 0.2762228846549988}],\n",
       "  '27': [{'label': '2', 'score': 0.6371875405311584},\n",
       "   {'label': '1', 'score': 0.36281245946884155}],\n",
       "  '28': [{'label': '2', 'score': 0.7260609269142151},\n",
       "   {'label': '1', 'score': 0.2739391028881073}],\n",
       "  '29': [{'label': '1', 'score': 0.5957465171813965},\n",
       "   {'label': '2', 'score': 0.40425345301628113}],\n",
       "  '30': [{'label': '2', 'score': 0.5669956207275391},\n",
       "   {'label': '1', 'score': 0.4330044090747833}],\n",
       "  '31': [{'label': '2', 'score': 0.5539229512214661},\n",
       "   {'label': '1', 'score': 0.44607704877853394}],\n",
       "  '32': [{'label': '1', 'score': 0.557072639465332},\n",
       "   {'label': '2', 'score': 0.4429273009300232}],\n",
       "  '33': [{'label': '1', 'score': 0.6447010636329651},\n",
       "   {'label': '2', 'score': 0.3552989661693573}],\n",
       "  '34': [{'label': '2', 'score': 0.599575400352478},\n",
       "   {'label': '1', 'score': 0.40042462944984436}],\n",
       "  '35': [{'label': '2', 'score': 0.5270364284515381},\n",
       "   {'label': '1', 'score': 0.4729636013507843}],\n",
       "  '36': [{'label': '1', 'score': 0.5012332797050476},\n",
       "   {'label': '2', 'score': 0.49876669049263}],\n",
       "  '37': [{'label': '1', 'score': 0.5504216551780701},\n",
       "   {'label': '2', 'score': 0.44957828521728516}],\n",
       "  '38': [{'label': '2', 'score': 0.5913314819335938},\n",
       "   {'label': '1', 'score': 0.40866848826408386}],\n",
       "  '39': [{'label': '2', 'score': 0.6725461483001709},\n",
       "   {'label': '1', 'score': 0.3274538815021515}],\n",
       "  '40': [{'label': '2', 'score': 0.5858117938041687},\n",
       "   {'label': '1', 'score': 0.4141882658004761}],\n",
       "  '41': [{'label': '2', 'score': 0.6251510381698608},\n",
       "   {'label': '1', 'score': 0.37484899163246155}],\n",
       "  '42': [{'label': '2', 'score': 0.7790908217430115},\n",
       "   {'label': '1', 'score': 0.2209092229604721}],\n",
       "  '43': [{'label': '2', 'score': 0.792685866355896},\n",
       "   {'label': '1', 'score': 0.20731410384178162}],\n",
       "  '44': [{'label': '1', 'score': 0.7130640149116516},\n",
       "   {'label': '2', 'score': 0.286935955286026}],\n",
       "  '45': [{'label': '1', 'score': 0.6832450032234192},\n",
       "   {'label': '2', 'score': 0.3167550265789032}],\n",
       "  '46': [{'label': '1', 'score': 0.6619399189949036},\n",
       "   {'label': '2', 'score': 0.3380601704120636}],\n",
       "  '47': [{'label': '1', 'score': 0.565808117389679},\n",
       "   {'label': '2', 'score': 0.43419191241264343}],\n",
       "  '48': [{'label': '2', 'score': 0.508418083190918},\n",
       "   {'label': '1', 'score': 0.49158191680908203}],\n",
       "  '49': [{'label': '2', 'score': 0.5977712869644165},\n",
       "   {'label': '1', 'score': 0.4022286832332611}],\n",
       "  '50': [{'label': '2', 'score': 0.5523122549057007},\n",
       "   {'label': '1', 'score': 0.44768771529197693}],\n",
       "  '51': [{'label': '2', 'score': 0.5121302008628845},\n",
       "   {'label': '1', 'score': 0.48786982893943787}],\n",
       "  '52': [{'label': '1', 'score': 0.621645987033844},\n",
       "   {'label': '2', 'score': 0.3783540427684784}],\n",
       "  '53': [{'label': '1', 'score': 0.5463844537734985},\n",
       "   {'label': '2', 'score': 0.45361557602882385}],\n",
       "  '54': [{'label': '1', 'score': 0.70827716588974},\n",
       "   {'label': '2', 'score': 0.2917228043079376}],\n",
       "  '55': [{'label': '1', 'score': 0.70960533618927},\n",
       "   {'label': '2', 'score': 0.2903946340084076}],\n",
       "  '56': [{'label': '1', 'score': 0.6751764416694641},\n",
       "   {'label': '2', 'score': 0.3248235881328583}],\n",
       "  '57': [{'label': '1', 'score': 0.6643004417419434},\n",
       "   {'label': '2', 'score': 0.33569949865341187}],\n",
       "  '58': [{'label': '1', 'score': 0.6814702153205872},\n",
       "   {'label': '2', 'score': 0.31852975487709045}],\n",
       "  '59': [{'label': '1', 'score': 0.5910775065422058},\n",
       "   {'label': '2', 'score': 0.4089224934577942}],\n",
       "  '60': [{'label': '1', 'score': 0.6217057108879089},\n",
       "   {'label': '2', 'score': 0.37829428911209106}],\n",
       "  '61': [{'label': '1', 'score': 0.6003777980804443},\n",
       "   {'label': '2', 'score': 0.39962220191955566}],\n",
       "  '62': [{'label': '1', 'score': 0.5718070864677429},\n",
       "   {'label': '2', 'score': 0.4281929135322571}],\n",
       "  '63': [{'label': '1', 'score': 0.6650117635726929},\n",
       "   {'label': '2', 'score': 0.33498823642730713}],\n",
       "  '64': [{'label': '1', 'score': 0.7651255130767822},\n",
       "   {'label': '2', 'score': 0.23487445712089539}],\n",
       "  '65': [{'label': '1', 'score': 0.7087156772613525},\n",
       "   {'label': '2', 'score': 0.29128438234329224}],\n",
       "  '66': [{'label': '2', 'score': 0.5029589533805847},\n",
       "   {'label': '1', 'score': 0.49704110622406006}],\n",
       "  '67': [{'label': '1', 'score': 0.6731756925582886},\n",
       "   {'label': '2', 'score': 0.32682424783706665}],\n",
       "  '68': [{'label': '1', 'score': 0.6020240783691406},\n",
       "   {'label': '2', 'score': 0.3979759216308594}],\n",
       "  '69': [{'label': '1', 'score': 0.5494385361671448},\n",
       "   {'label': '2', 'score': 0.45056140422821045}],\n",
       "  '70': [{'label': '1', 'score': 0.67836993932724},\n",
       "   {'label': '2', 'score': 0.3216300308704376}],\n",
       "  '71': [{'label': '1', 'score': 0.6632663607597351},\n",
       "   {'label': '2', 'score': 0.3367336690425873}],\n",
       "  '72': [{'label': '1', 'score': 0.7298616766929626},\n",
       "   {'label': '2', 'score': 0.27013838291168213}],\n",
       "  '73': [{'label': '1', 'score': 0.6231385469436646},\n",
       "   {'label': '2', 'score': 0.37686148285865784}],\n",
       "  '74': [{'label': '1', 'score': 0.6392782330513},\n",
       "   {'label': '2', 'score': 0.36072179675102234}],\n",
       "  '75': [{'label': '1', 'score': 0.5798300504684448},\n",
       "   {'label': '2', 'score': 0.42016997933387756}],\n",
       "  '76': [{'label': '1', 'score': 0.6431252360343933},\n",
       "   {'label': '2', 'score': 0.3568747043609619}],\n",
       "  '77': [{'label': '1', 'score': 0.6869427561759949},\n",
       "   {'label': '2', 'score': 0.3130573034286499}],\n",
       "  '78': [{'label': '1', 'score': 0.6369748115539551},\n",
       "   {'label': '2', 'score': 0.3630252182483673}],\n",
       "  '79': [{'label': '2', 'score': 0.6325471997261047},\n",
       "   {'label': '1', 'score': 0.3674527704715729}],\n",
       "  '80': [{'label': '2', 'score': 0.6108171939849854},\n",
       "   {'label': '1', 'score': 0.38918283581733704}],\n",
       "  '81': [{'label': '1', 'score': 0.6069754362106323},\n",
       "   {'label': '2', 'score': 0.3930245637893677}],\n",
       "  '82': [{'label': '1', 'score': 0.5822603702545166},\n",
       "   {'label': '2', 'score': 0.4177396595478058}],\n",
       "  '83': [{'label': '1', 'score': 0.7425570487976074},\n",
       "   {'label': '2', 'score': 0.25744298100471497}],\n",
       "  '84': [{'label': '1', 'score': 0.6663057208061218},\n",
       "   {'label': '2', 'score': 0.3336942791938782}],\n",
       "  '85': [{'label': '2', 'score': 0.5235910415649414},\n",
       "   {'label': '1', 'score': 0.4764089286327362}],\n",
       "  '86': [{'label': '1', 'score': 0.6903213858604431},\n",
       "   {'label': '2', 'score': 0.3096786141395569}],\n",
       "  '87': [{'label': '2', 'score': 0.7305904626846313},\n",
       "   {'label': '1', 'score': 0.26940953731536865}],\n",
       "  '88': [{'label': '2', 'score': 0.7410380244255066},\n",
       "   {'label': '1', 'score': 0.2589620053768158}],\n",
       "  '89': [{'label': '2', 'score': 0.5826029777526855},\n",
       "   {'label': '1', 'score': 0.4173969626426697}]}}"
      ]
     },
     "execution_count": 13,
     "metadata": {},
     "output_type": "execute_result"
    }
   ],
   "source": [
    "val_results_dict"
   ]
  },
  {
   "cell_type": "code",
   "execution_count": null,
   "metadata": {},
   "outputs": [],
   "source": []
  }
 ],
 "metadata": {
  "kernelspec": {
   "display_name": "SFHDet",
   "language": "python",
   "name": "sfhdet"
  },
  "language_info": {
   "codemirror_mode": {
    "name": "ipython",
    "version": 3
   },
   "file_extension": ".py",
   "mimetype": "text/x-python",
   "name": "python",
   "nbconvert_exporter": "python",
   "pygments_lexer": "ipython3",
   "version": "3.8.13"
  }
 },
 "nbformat": 4,
 "nbformat_minor": 4
}
