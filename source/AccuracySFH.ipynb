{
 "cells": [
  {
   "cell_type": "code",
   "execution_count": 26,
   "metadata": {},
   "outputs": [
    {
     "name": "stdout",
     "output_type": "stream",
     "text": [
      "Accuracy:  94.73684210526315 %\n"
     ]
    }
   ],
   "source": [
    "import json\n",
    "from datasets.nv import make_dataset, load_annotation_data\n",
    "from sklearn.metrics import accuracy_score, accuracy_score, balanced_accuracy_score\n",
    "import numpy as np\n",
    "\n",
    "#load result file\n",
    "with open('./resultSFH/val_1.json', 'r') as f:\n",
    "    val_results_dict = json.load(f)\n",
    "    \n",
    "val_filtered_results_dict = {}\n",
    "for x in val_results_dict['results']:\n",
    "    val_filtered_results_dict[x] = val_results_dict['results'][x][0]['label']\n",
    "\n",
    "annotation_data = load_annotation_data('./annotation_SFH/SFH.json')\n",
    "\n",
    "videoid=0\n",
    "val_filtered_ytrue_dict = {}\n",
    "for x in annotation_data['database']:\n",
    "    #print('x: ',x,' id: ',videoid)\n",
    "    idx_data = annotation_data['database'][x]\n",
    "    #print(idx_data)\n",
    "    if idx_data['subset'] == 'validation' and str(videoid) in val_filtered_results_dict:\n",
    "            val_filtered_ytrue_dict[str(videoid)]=idx_data['annotations']['label']\n",
    "            videoid+=1\n",
    "\n",
    "print('Accuracy: ',str(100*accuracy_score(list(val_filtered_ytrue_dict.values()), list(val_filtered_results_dict.values()))),\"%\")\n"
   ]
  },
  {
   "cell_type": "code",
   "execution_count": 16,
   "metadata": {
    "collapsed": true
   },
   "outputs": [
    {
     "data": {
      "text/plain": [
       "{'0': '1',\n",
       " '1': '1',\n",
       " '2': '1',\n",
       " '3': '1',\n",
       " '4': '1',\n",
       " '5': '0',\n",
       " '6': '1',\n",
       " '7': '1',\n",
       " '8': '1',\n",
       " '9': '1',\n",
       " '10': '0',\n",
       " '11': '0',\n",
       " '12': '0',\n",
       " '13': '0',\n",
       " '14': '0',\n",
       " '15': '0',\n",
       " '16': '0',\n",
       " '17': '0',\n",
       " '18': '0'}"
      ]
     },
     "execution_count": 16,
     "metadata": {},
     "output_type": "execute_result"
    }
   ],
   "source": [
    "val_filtered_results_dict"
   ]
  },
  {
   "cell_type": "code",
   "execution_count": 17,
   "metadata": {
    "collapsed": true
   },
   "outputs": [
    {
     "data": {
      "text/plain": [
       "{'0': '1',\n",
       " '1': '1',\n",
       " '2': '1',\n",
       " '3': '1',\n",
       " '4': '1',\n",
       " '5': '1',\n",
       " '6': '1',\n",
       " '7': '1',\n",
       " '8': '1',\n",
       " '9': '1',\n",
       " '10': '0',\n",
       " '11': '0',\n",
       " '12': '0',\n",
       " '13': '0',\n",
       " '14': '0',\n",
       " '15': '0',\n",
       " '16': '0',\n",
       " '17': '0',\n",
       " '18': '0'}"
      ]
     },
     "execution_count": 17,
     "metadata": {},
     "output_type": "execute_result"
    }
   ],
   "source": [
    "val_filtered_ytrue_dict"
   ]
  },
  {
   "cell_type": "code",
   "execution_count": 22,
   "metadata": {},
   "outputs": [
    {
     "name": "stdout",
     "output_type": "stream",
     "text": [
      "Accuracy:  93.10344827586206 %\n"
     ]
    }
   ],
   "source": [
    "import json\n",
    "from datasets.nv import make_dataset, load_annotation_data\n",
    "from sklearn.metrics import accuracy_score, accuracy_score, balanced_accuracy_score\n",
    "import numpy as np\n",
    "\n",
    "#load result file\n",
    "with open('./resultSFH/train.json', 'r') as f:\n",
    "    val_results_dict = json.load(f)\n",
    "    \n",
    "val_filtered_results_dict = {}\n",
    "for x in val_results_dict['results']:\n",
    "    val_filtered_results_dict[x] = val_results_dict['results'][x][0]['label']\n",
    "\n",
    "annotation_data = load_annotation_data('./annotation_SFH/SFH.json')\n",
    "\n",
    "videoid=0\n",
    "val_filtered_ytrue_dict = {}\n",
    "for x in annotation_data['database']:\n",
    "    #print('x: ',x,' id: ',videoid)\n",
    "    idx_data = annotation_data['database'][x]\n",
    "    #print(idx_data)\n",
    "    if idx_data['subset'] == 'training' and str(videoid) in val_filtered_results_dict:\n",
    "            val_filtered_ytrue_dict[str(videoid)]=idx_data['annotations']['label']\n",
    "            videoid+=1\n",
    "\n",
    "print('Accuracy: ',str(100*accuracy_score(list(val_filtered_ytrue_dict.values()), list(val_filtered_results_dict.values()))),\"%\")\n"
   ]
  },
  {
   "cell_type": "code",
   "execution_count": 23,
   "metadata": {},
   "outputs": [
    {
     "data": {
      "text/plain": [
       "{'0': '1',\n",
       " '1': '0',\n",
       " '2': '1',\n",
       " '3': '0',\n",
       " '4': '0',\n",
       " '5': '1',\n",
       " '6': '1',\n",
       " '7': '0',\n",
       " '8': '1',\n",
       " '9': '1',\n",
       " '10': '1',\n",
       " '11': '1',\n",
       " '12': '1',\n",
       " '13': '1',\n",
       " '14': '1',\n",
       " '15': '1',\n",
       " '16': '1',\n",
       " '17': '1',\n",
       " '18': '1',\n",
       " '19': '1',\n",
       " '20': '1',\n",
       " '21': '1',\n",
       " '22': '1',\n",
       " '23': '1',\n",
       " '24': '1',\n",
       " '25': '1',\n",
       " '26': '1',\n",
       " '27': '1',\n",
       " '28': '0',\n",
       " '29': '1',\n",
       " '30': '1',\n",
       " '31': '1',\n",
       " '32': '1',\n",
       " '33': '1',\n",
       " '34': '1',\n",
       " '35': '1',\n",
       " '36': '1',\n",
       " '37': '1',\n",
       " '38': '1',\n",
       " '39': '1',\n",
       " '40': '0',\n",
       " '41': '0',\n",
       " '42': '0',\n",
       " '43': '0',\n",
       " '44': '0',\n",
       " '45': '0',\n",
       " '46': '0',\n",
       " '47': '0',\n",
       " '48': '0',\n",
       " '49': '0',\n",
       " '50': '0',\n",
       " '51': '0',\n",
       " '52': '0',\n",
       " '53': '0',\n",
       " '54': '0',\n",
       " '55': '0',\n",
       " '56': '0',\n",
       " '57': '0',\n",
       " '58': '0',\n",
       " '59': '0',\n",
       " '60': '0',\n",
       " '61': '0',\n",
       " '62': '0',\n",
       " '63': '0',\n",
       " '64': '0',\n",
       " '65': '0',\n",
       " '66': '0',\n",
       " '67': '0',\n",
       " '68': '0',\n",
       " '69': '0',\n",
       " '70': '0',\n",
       " '71': '0',\n",
       " '72': '1',\n",
       " '73': '0',\n",
       " '74': '0',\n",
       " '75': '0',\n",
       " '76': '0',\n",
       " '77': '0',\n",
       " '78': '0',\n",
       " '79': '0',\n",
       " '80': '0',\n",
       " '81': '0',\n",
       " '82': '0',\n",
       " '83': '0',\n",
       " '84': '0',\n",
       " '85': '0',\n",
       " '86': '0'}"
      ]
     },
     "execution_count": 23,
     "metadata": {},
     "output_type": "execute_result"
    }
   ],
   "source": [
    "val_filtered_results_dict"
   ]
  },
  {
   "cell_type": "code",
   "execution_count": 24,
   "metadata": {},
   "outputs": [
    {
     "data": {
      "text/plain": [
       "{'0': '1',\n",
       " '1': '1',\n",
       " '2': '1',\n",
       " '3': '1',\n",
       " '4': '1',\n",
       " '5': '1',\n",
       " '6': '1',\n",
       " '7': '1',\n",
       " '8': '1',\n",
       " '9': '1',\n",
       " '10': '1',\n",
       " '11': '1',\n",
       " '12': '1',\n",
       " '13': '1',\n",
       " '14': '1',\n",
       " '15': '1',\n",
       " '16': '1',\n",
       " '17': '1',\n",
       " '18': '1',\n",
       " '19': '1',\n",
       " '20': '1',\n",
       " '21': '1',\n",
       " '22': '1',\n",
       " '23': '1',\n",
       " '24': '1',\n",
       " '25': '1',\n",
       " '26': '1',\n",
       " '27': '1',\n",
       " '28': '1',\n",
       " '29': '1',\n",
       " '30': '1',\n",
       " '31': '1',\n",
       " '32': '1',\n",
       " '33': '1',\n",
       " '34': '1',\n",
       " '35': '1',\n",
       " '36': '1',\n",
       " '37': '1',\n",
       " '38': '1',\n",
       " '39': '1',\n",
       " '40': '0',\n",
       " '41': '0',\n",
       " '42': '0',\n",
       " '43': '0',\n",
       " '44': '0',\n",
       " '45': '0',\n",
       " '46': '0',\n",
       " '47': '0',\n",
       " '48': '0',\n",
       " '49': '0',\n",
       " '50': '0',\n",
       " '51': '0',\n",
       " '52': '0',\n",
       " '53': '0',\n",
       " '54': '0',\n",
       " '55': '0',\n",
       " '56': '0',\n",
       " '57': '0',\n",
       " '58': '0',\n",
       " '59': '0',\n",
       " '60': '0',\n",
       " '61': '0',\n",
       " '62': '0',\n",
       " '63': '0',\n",
       " '64': '0',\n",
       " '65': '0',\n",
       " '66': '0',\n",
       " '67': '0',\n",
       " '68': '0',\n",
       " '69': '0',\n",
       " '70': '0',\n",
       " '71': '0',\n",
       " '72': '0',\n",
       " '73': '0',\n",
       " '74': '0',\n",
       " '75': '0',\n",
       " '76': '0',\n",
       " '77': '0',\n",
       " '78': '0',\n",
       " '79': '0',\n",
       " '80': '0',\n",
       " '81': '0',\n",
       " '82': '0',\n",
       " '83': '0',\n",
       " '84': '0',\n",
       " '85': '0',\n",
       " '86': '0'}"
      ]
     },
     "execution_count": 24,
     "metadata": {},
     "output_type": "execute_result"
    }
   ],
   "source": [
    "val_filtered_ytrue_dict"
   ]
  },
  {
   "cell_type": "code",
   "execution_count": null,
   "metadata": {},
   "outputs": [],
   "source": []
  }
 ],
 "metadata": {
  "kernelspec": {
   "display_name": "SFHDet",
   "language": "python",
   "name": "sfhdet"
  },
  "language_info": {
   "codemirror_mode": {
    "name": "ipython",
    "version": 3
   },
   "file_extension": ".py",
   "mimetype": "text/x-python",
   "name": "python",
   "nbconvert_exporter": "python",
   "pygments_lexer": "ipython3",
   "version": "3.8.13"
  }
 },
 "nbformat": 4,
 "nbformat_minor": 4
}
