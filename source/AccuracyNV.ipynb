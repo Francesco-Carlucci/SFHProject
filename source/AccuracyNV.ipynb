{
 "cells": [
  {
   "cell_type": "code",
   "execution_count": 45,
   "metadata": {},
   "outputs": [],
   "source": [
    "import json\n",
    "from datasets.nv import make_dataset, load_annotation_data\n",
    "from sklearn.metrics import accuracy_score, accuracy_score, balanced_accuracy_score\n",
    "import numpy as np"
   ]
  },
  {
   "cell_type": "code",
   "execution_count": 46,
   "metadata": {},
   "outputs": [],
   "source": [
    "#load result file\n",
    "with open('./result1/val_4.json', 'r') as f:\n",
    "    val_results_dict = json.load(f)"
   ]
  },
  {
   "cell_type": "code",
   "execution_count": 47,
   "metadata": {},
   "outputs": [],
   "source": [
    "val_filtered_results_dict = {}\n",
    "for x in val_results_dict['results']:\n",
    "    val_filtered_results_dict[x] = val_results_dict['results'][x][0]['label']"
   ]
  },
  {
   "cell_type": "code",
   "execution_count": 48,
   "metadata": {},
   "outputs": [],
   "source": [
    "annotation_data = load_annotation_data('./annotation_nvGesture/nvall_but_None.json')"
   ]
  },
  {
   "cell_type": "code",
   "execution_count": 49,
   "metadata": {},
   "outputs": [
    {
     "data": {
      "text/plain": [
       "'2'"
      ]
     },
     "execution_count": 49,
     "metadata": {},
     "output_type": "execute_result"
    }
   ],
   "source": [
    "videoidx=0\n",
    "i=1\n",
    "val_filtered_ytrue_dict = {}\n",
    "for x in annotation_data['database']:\n",
    "    idx_data = annotation_data['database'][x]\n",
    "    if idx_data['subset'] == 'validation': # and \n",
    "       # if str(videoidx) in val_filtered_results_dict:\n",
    "        #    val_filtered_ytrue_dict[str(videoidx)]=idx_data['annotations']['label']\n",
    "        \n",
    "        if idx_data['annotations']['label']=='23':\n",
    "            val_filtered_ytrue_dict[str(videoidx)] = '1'\n",
    "            i = 24\n",
    "            videoidx+=1\n",
    "        elif idx_data['annotations']['label']==str(int(i)):\n",
    "            val_filtered_ytrue_dict[str(videoidx)] = '2'\n",
    "            i+=0.5\n",
    "            videoidx+=1\n",
    "        \n",
    "        #videoidx+=1\n",
    "val_filtered_ytrue_dict.pop('67')"
   ]
  },
  {
   "cell_type": "code",
   "execution_count": 50,
   "metadata": {},
   "outputs": [
    {
     "name": "stdout",
     "output_type": "stream",
     "text": [
      "val: 0.8955223880597015\n"
     ]
    }
   ],
   "source": [
    "print('val: ' + str(accuracy_score(list(val_filtered_ytrue_dict.values()), list(val_filtered_results_dict.values()))))"
   ]
  },
  {
   "cell_type": "code",
   "execution_count": 37,
   "metadata": {},
   "outputs": [
    {
     "data": {
      "text/plain": [
       "{'0': '2',\n",
       " '1': '2',\n",
       " '2': '2',\n",
       " '3': '2',\n",
       " '4': '2',\n",
       " '5': '2',\n",
       " '6': '2',\n",
       " '7': '2',\n",
       " '8': '2',\n",
       " '9': '2',\n",
       " '10': '2',\n",
       " '11': '2',\n",
       " '12': '2',\n",
       " '13': '2',\n",
       " '14': '2',\n",
       " '15': '2',\n",
       " '16': '2',\n",
       " '17': '2',\n",
       " '18': '2',\n",
       " '19': '2',\n",
       " '20': '2',\n",
       " '21': '2',\n",
       " '22': '2',\n",
       " '23': '2',\n",
       " '24': '2',\n",
       " '25': '2',\n",
       " '26': '2',\n",
       " '27': '2',\n",
       " '28': '2',\n",
       " '29': '2',\n",
       " '30': '2',\n",
       " '31': '2',\n",
       " '32': '2',\n",
       " '33': '2',\n",
       " '34': '2',\n",
       " '35': '2',\n",
       " '36': '2',\n",
       " '37': '2',\n",
       " '38': '2',\n",
       " '39': '2',\n",
       " '40': '2',\n",
       " '41': '2',\n",
       " '42': '2',\n",
       " '43': '2',\n",
       " '44': '1',\n",
       " '45': '1',\n",
       " '46': '1',\n",
       " '47': '1',\n",
       " '48': '1',\n",
       " '49': '1',\n",
       " '50': '1',\n",
       " '51': '1',\n",
       " '52': '1',\n",
       " '53': '1',\n",
       " '54': '1',\n",
       " '55': '1',\n",
       " '56': '1',\n",
       " '57': '1',\n",
       " '58': '1',\n",
       " '59': '1',\n",
       " '60': '1',\n",
       " '61': '1',\n",
       " '62': '1',\n",
       " '63': '1',\n",
       " '64': '2',\n",
       " '65': '2',\n",
       " '66': '2'}"
      ]
     },
     "execution_count": 37,
     "metadata": {},
     "output_type": "execute_result"
    }
   ],
   "source": [
    "val_filtered_ytrue_dict"
   ]
  },
  {
   "cell_type": "code",
   "execution_count": 38,
   "metadata": {},
   "outputs": [
    {
     "data": {
      "text/plain": [
       "{'0': '2',\n",
       " '1': '2',\n",
       " '2': '2',\n",
       " '3': '2',\n",
       " '4': '2',\n",
       " '5': '1',\n",
       " '6': '2',\n",
       " '7': '2',\n",
       " '8': '2',\n",
       " '9': '2',\n",
       " '10': '2',\n",
       " '11': '2',\n",
       " '12': '2',\n",
       " '13': '2',\n",
       " '14': '2',\n",
       " '15': '2',\n",
       " '16': '2',\n",
       " '17': '2',\n",
       " '18': '2',\n",
       " '19': '1',\n",
       " '20': '2',\n",
       " '21': '1',\n",
       " '22': '1',\n",
       " '23': '1',\n",
       " '24': '2',\n",
       " '25': '2',\n",
       " '26': '2',\n",
       " '27': '2',\n",
       " '28': '2',\n",
       " '29': '2',\n",
       " '30': '2',\n",
       " '31': '2',\n",
       " '32': '2',\n",
       " '33': '2',\n",
       " '34': '2',\n",
       " '35': '2',\n",
       " '36': '2',\n",
       " '37': '1',\n",
       " '38': '2',\n",
       " '39': '2',\n",
       " '40': '2',\n",
       " '41': '2',\n",
       " '42': '2',\n",
       " '43': '2',\n",
       " '44': '1',\n",
       " '45': '1',\n",
       " '46': '1',\n",
       " '47': '1',\n",
       " '48': '1',\n",
       " '49': '1',\n",
       " '50': '1',\n",
       " '51': '2',\n",
       " '52': '1',\n",
       " '53': '1',\n",
       " '54': '1',\n",
       " '55': '2',\n",
       " '56': '2',\n",
       " '57': '1',\n",
       " '58': '1',\n",
       " '59': '1',\n",
       " '60': '1',\n",
       " '61': '1',\n",
       " '62': '1',\n",
       " '63': '1',\n",
       " '64': '2',\n",
       " '65': '2',\n",
       " '66': '2'}"
      ]
     },
     "execution_count": 38,
     "metadata": {},
     "output_type": "execute_result"
    }
   ],
   "source": [
    "val_filtered_results_dict"
   ]
  },
  {
   "cell_type": "code",
   "execution_count": null,
   "metadata": {},
   "outputs": [],
   "source": []
  }
 ],
 "metadata": {
  "kernelspec": {
   "display_name": "SFHDet",
   "language": "python",
   "name": "sfhdet"
  },
  "language_info": {
   "codemirror_mode": {
    "name": "ipython",
    "version": 3
   },
   "file_extension": ".py",
   "mimetype": "text/x-python",
   "name": "python",
   "nbconvert_exporter": "python",
   "pygments_lexer": "ipython3",
   "version": "3.8.13"
  }
 },
 "nbformat": 4,
 "nbformat_minor": 4
}
